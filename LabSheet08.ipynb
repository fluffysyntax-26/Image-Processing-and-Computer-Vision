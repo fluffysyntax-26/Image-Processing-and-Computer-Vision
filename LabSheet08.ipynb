{
 "cells": [
  {
   "cell_type": "code",
   "execution_count": 14,
   "id": "aab777c8",
   "metadata": {},
   "outputs": [],
   "source": [
    "import cv2 as cv\n",
    "import numpy as np\n",
    "import matplotlib.pyplot as plt"
   ]
  },
  {
   "cell_type": "markdown",
   "id": "5981f572",
   "metadata": {},
   "source": [
    "## LabSheet 8\n",
    "* Color Based Object Detection\n",
    "* Objective: Segment Objects based on color\n",
    "* Task: Use HSV color space for object detection\n",
    "* Activity: Detect colored objects (eg., red ball) in real-time"
   ]
  },
  {
   "cell_type": "code",
   "execution_count": 15,
   "id": "96a18505",
   "metadata": {},
   "outputs": [],
   "source": [
    "# Input file (use either image or video)\n",
    "image_path = \"images/colored-balls.jpg\"\n",
    "video_path = None"
   ]
  },
  {
   "cell_type": "code",
   "execution_count": 16,
   "id": "d61aa7dc",
   "metadata": {},
   "outputs": [],
   "source": [
    "# Define HSV Range for Red Colour\n",
    "lower_red1 = np.array([0, 120, 70])\n",
    "upper_red1 = np.array([10, 255, 255])\n",
    "lower_red2 = np.array([170, 120, 70])\n",
    "upper_red2 = np.array([180, 255, 255])"
   ]
  },
  {
   "cell_type": "code",
   "execution_count": 17,
   "id": "d0b35370",
   "metadata": {},
   "outputs": [],
   "source": [
    "def process_frame(frame): \n",
    "    frame = cv.resize(frame, (640, 480))\n",
    "    hsv = cv.cvtColor(frame, cv.COLOR_BGR2HSV)\n",
    "\n",
    "    mask1 = cv.inRange(hsv, lower_red1, upper_red1)\n",
    "    mask2 = cv.inRange(hsv, lower_red2, upper_red2)\n",
    "    mask = mask1 | mask2\n",
    "\n",
    "    mask = cv.medianBlur(mask, 5)\n",
    "    result = cv.bitwise_and(frame, frame, mask=mask)\n",
    "\n",
    "    contours, _ = cv.findContours(mask, cv.RETR_EXTERNAL, cv.CHAIN_APPROX_SIMPLE)\n",
    "\n",
    "    for contour in contours: \n",
    "        area = cv.contourArea(contour)\n",
    "        if area > 800: \n",
    "            x, y, w, h = cv.boundingRect(contour)\n",
    "            cv.rectangle(frame, (x, y), (x+w, y+h), (0, 255, 0), 2)\n",
    "            cv.putText(frame, \"Red Object\", (x, y-10), \n",
    "                       cv.FONT_HERSHEY_SIMPLEX, 0.7, (0, 255, 0), 2)\n",
    "            \n",
    "    cv.imshow(\"Original Frame\", frame)\n",
    "    cv.imshow(\"Mask\", mask)\n",
    "    cv.imshow(\"Detected Object\", result)\n",
    "\n"
   ]
  },
  {
   "cell_type": "code",
   "execution_count": null,
   "id": "280c0de9",
   "metadata": {},
   "outputs": [],
   "source": [
    "# Image Input\n",
    "if image_path and not video_path: \n",
    "    frame = cv.imread(image_path)\n",
    "    if frame is not None: \n",
    "        process_frame(frame)\n",
    "        print(\"Press any key to close window\")\n",
    "        cv.waitKey(0)\n",
    "        cv.destroyAllWindows()"
   ]
  }
 ],
 "metadata": {
  "kernelspec": {
   "display_name": "cvenv",
   "language": "python",
   "name": "python3"
  },
  "language_info": {
   "codemirror_mode": {
    "name": "ipython",
    "version": 3
   },
   "file_extension": ".py",
   "mimetype": "text/x-python",
   "name": "python",
   "nbconvert_exporter": "python",
   "pygments_lexer": "ipython3",
   "version": "3.11.13"
  }
 },
 "nbformat": 4,
 "nbformat_minor": 5
}
