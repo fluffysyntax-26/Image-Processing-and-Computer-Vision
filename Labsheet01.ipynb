{
 "cells": [
  {
   "cell_type": "code",
   "execution_count": 5,
   "id": "212cd179-6d8d-44a6-9240-2099351801ec",
   "metadata": {},
   "outputs": [],
   "source": [
    "import cv2 as cv\n",
    "import numpy as np"
   ]
  },
  {
   "cell_type": "code",
   "execution_count": 6,
   "id": "7e8d6bdf-cb73-4bfd-b4de-4b1c8d0cb22b",
   "metadata": {},
   "outputs": [
    {
     "name": "stdout",
     "output_type": "stream",
     "text": [
      "4.12.0\n"
     ]
    }
   ],
   "source": [
    "print(cv.__version__)"
   ]
  },
  {
   "cell_type": "code",
   "execution_count": 12,
   "id": "56c98313-55b1-4aba-9b22-3bbbe6530914",
   "metadata": {},
   "outputs": [
    {
     "name": "stdout",
     "output_type": "stream",
     "text": [
      "lena.jpeg\n"
     ]
    }
   ],
   "source": [
    "image_path = \"lena.jpeg\"\n",
    "print(image_path)"
   ]
  },
  {
   "cell_type": "code",
   "execution_count": 13,
   "id": "206a9d3c-b7dd-4fa7-a263-7163e64acea3",
   "metadata": {},
   "outputs": [
    {
     "data": {
      "text/plain": [
       "array([[[118, 134, 230],\n",
       "        [118, 134, 230],\n",
       "        [117, 133, 229],\n",
       "        ...,\n",
       "        [122, 128, 223],\n",
       "        [141, 149, 242],\n",
       "        [111, 118, 215]],\n",
       "\n",
       "       [[117, 133, 229],\n",
       "        [117, 133, 229],\n",
       "        [117, 133, 229],\n",
       "        ...,\n",
       "        [138, 140, 234],\n",
       "        [154, 157, 248],\n",
       "        [120, 120, 214]],\n",
       "\n",
       "       [[117, 133, 229],\n",
       "        [117, 133, 229],\n",
       "        [115, 133, 228],\n",
       "        ...,\n",
       "        [114, 109, 200],\n",
       "        [113, 104, 194],\n",
       "        [ 79,  63, 151]],\n",
       "\n",
       "       ...,\n",
       "\n",
       "       [[ 68,  31,  87],\n",
       "        [ 63,  27,  87],\n",
       "        [ 60,  24,  90],\n",
       "        ...,\n",
       "        [ 74,  51, 126],\n",
       "        [ 77,  58, 139],\n",
       "        [ 78,  61, 152]],\n",
       "\n",
       "       [[ 66,  31,  87],\n",
       "        [ 62,  26,  86],\n",
       "        [ 59,  23,  89],\n",
       "        ...,\n",
       "        [ 78,  57, 136],\n",
       "        [ 85,  66, 151],\n",
       "        [ 77,  66, 159]],\n",
       "\n",
       "       [[ 52,  20,  77],\n",
       "        [ 67,  35,  94],\n",
       "        [ 61,  25,  91],\n",
       "        ...,\n",
       "        [ 87,  68, 155],\n",
       "        [ 89,  73, 167],\n",
       "        [ 87,  73, 178]]], shape=(225, 225, 3), dtype=uint8)"
      ]
     },
     "execution_count": 13,
     "metadata": {},
     "output_type": "execute_result"
    }
   ],
   "source": [
    "cv.imread(image_path)"
   ]
  },
  {
   "cell_type": "code",
   "execution_count": 14,
   "id": "4b6fec8b-3cee-4616-a5f9-60d25e9bc3f8",
   "metadata": {},
   "outputs": [
    {
     "name": "stdout",
     "output_type": "stream",
     "text": [
      "Image loaded successfully from lena.jpeg\n",
      "Displaying the original color image\n"
     ]
    }
   ],
   "source": [
    "original_image = cv.imread(image_path)\n",
    "print(f\"Image loaded successfully from {image_path}\")\n",
    "cv.imshow(\"Original Color Image\", original_image)\n",
    "print(\"Displaying the original color image\")\n",
    "\n",
    "cv.waitKey(0)\n",
    "cv.destroyAllWindows()"
   ]
  },
  {
   "cell_type": "code",
   "execution_count": 15,
   "id": "68ed4220-fc33-4c8d-94bf-bfd128ddb268",
   "metadata": {},
   "outputs": [
    {
     "name": "stdout",
     "output_type": "stream",
     "text": [
      "Image loaded successfully from lena.jpeg\n",
      "Displaying the Grayscale image\n"
     ]
    }
   ],
   "source": [
    "gray_image = cv.cvtColor(original_image, cv.COLOR_BGR2GRAY)\n",
    "print(f\"Image loaded successfully from {image_path}\")\n",
    "cv.imshow(\"Grayscale Image\", gray_image)\n",
    "print(\"Displaying the Grayscale image\")\n",
    "\n",
    "cv.waitKey(0)\n",
    "cv.destroyAllWindows()"
   ]
  },
  {
   "cell_type": "code",
   "execution_count": 16,
   "id": "4f94857b-56e4-4ca7-9153-6fcd7bf00001",
   "metadata": {},
   "outputs": [
    {
     "name": "stdout",
     "output_type": "stream",
     "text": [
      "Image loaded successfully from lena.jpeg\n",
      "Displaying the HSV image\n"
     ]
    }
   ],
   "source": [
    "hsv_image = cv.cvtColor(original_image, cv.COLOR_BGR2HSV)\n",
    "print(f\"Image loaded successfully from {image_path}\")\n",
    "cv.imshow(\"HSV Image\", hsv_image)\n",
    "print(\"Displaying the HSV image\")\n",
    "\n",
    "cv.waitKey(0)\n",
    "cv.destroyAllWindows()"
   ]
  },
  {
   "cell_type": "code",
   "execution_count": null,
   "id": "26262419-d9a5-4e4a-bcdf-0e8069a7aacf",
   "metadata": {},
   "outputs": [],
   "source": []
  }
 ],
 "metadata": {
  "kernelspec": {
   "display_name": "Python 3 (ipykernel)",
   "language": "python",
   "name": "python3"
  },
  "language_info": {
   "codemirror_mode": {
    "name": "ipython",
    "version": 3
   },
   "file_extension": ".py",
   "mimetype": "text/x-python",
   "name": "python",
   "nbconvert_exporter": "python",
   "pygments_lexer": "ipython3",
   "version": "3.13.2"
  }
 },
 "nbformat": 4,
 "nbformat_minor": 5
}
